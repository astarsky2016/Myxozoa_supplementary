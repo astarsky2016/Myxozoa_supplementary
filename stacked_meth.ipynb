{
 "cells": [
  {
   "cell_type": "code",
   "execution_count": 13,
   "id": "fbef4e73-3835-4274-bf67-d607a80b14dd",
   "metadata": {},
   "outputs": [
    {
     "name": "stdout",
     "output_type": "stream",
     "text": [
      "\u001b)0\u001b7\u001b[?47h\u001b[1;24r\u001b[m\u001b[4l\u001b[?1h\u001b=\u001b[m\u001b[m\u001b[37m\u001b[40m\u001b[1;1H                                                                                \u001b[2;1H                                                                                \u001b[3;1H                                                                                \u001b[4;1H                                                                                \u001b[5;1H                                                                                \u001b[6;1H                                                                                \u001b[7;1H                                                                                \u001b[8;1H                                                                                \u001b[9;1H                                                                                \u001b[10;1H                                                                                \u001b[11;1H                                                                                \u001b[12;1H                                                                                \u001b[13;1H                                                                                \u001b[14;1H                                                                                \u001b[15;1H                                                                                \u001b[16;1H                                                                                \u001b[17;1H                                                                                \u001b[18;1H                                                                                \u001b[19;1H                                                                                \u001b[20;1H                                                                                \u001b[21;1H                                                                                \u001b[22;1H                                                                                \u001b[23;1H                                                                                \u001b[24;1H                                                                              \u001b[4h\u001b[37m\u001b[40m \u001b[4l\u001b[H\u001b[m\u001b[m\u001b[37m\u001b[40m\u001b[m\u001b[m\u001b[21B\u001b[33m\u001b[44m\u001b[1mGetting file://localhost/disk3/ALL_ASSEMBLIES/temp-plot.html                    \u001b[22;61H\u001b[m\u001b[m\n",
      "\n",
      "\u001b[?1l\u001b>\u001b[2J\u001b[?47l\u001b8"
     ]
    },
    {
     "data": {
      "text/plain": [
       "'temp-plot.html'"
      ]
     },
     "execution_count": 13,
     "metadata": {},
     "output_type": "execute_result"
    }
   ],
   "source": [
    "import plotly.offline as pyo\n",
    "import plotly.graph_objects as px\n",
    "import numpy as np\n",
    " \n",
    "x = ['sample 70', 'sample 108', 'sample 115', 'sample 57', 'sample 58']\n",
    " \n",
    "plot = px.Figure(data=[go.Bar(\n",
    "    name = 'Unmethylated genes',\n",
    "    x = x,\n",
    "    y = [6799, 2468, 3615, 69, 37]\n",
    "   ),\n",
    "                       go.Bar(\n",
    "    name = 'Methylated genes',\n",
    "    x = x,\n",
    "    y = [20, 103, 23, 693, 844]\n",
    "   )\n",
    "])\n",
    " \n",
    "plot.update_layout(barmode='stack', xaxis=dict(title_text=\"Sample Id\"), yaxis=dict(title_text=\"Gene Count\"),)\n",
    "                  \n",
    "pyo.plot(plot)"
   ]
  },
  {
   "cell_type": "code",
   "execution_count": null,
   "id": "ac790501-cab3-4279-8ad4-8c759ce7b506",
   "metadata": {},
   "outputs": [],
   "source": []
  }
 ],
 "metadata": {
  "kernelspec": {
   "display_name": "Python 3 (ipykernel)",
   "language": "python",
   "name": "python3"
  },
  "language_info": {
   "codemirror_mode": {
    "name": "ipython",
    "version": 3
   },
   "file_extension": ".py",
   "mimetype": "text/x-python",
   "name": "python",
   "nbconvert_exporter": "python",
   "pygments_lexer": "ipython3",
   "version": "3.8.15"
  }
 },
 "nbformat": 4,
 "nbformat_minor": 5
}
