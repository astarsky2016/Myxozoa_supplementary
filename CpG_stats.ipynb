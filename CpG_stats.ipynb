{
 "cells": [
  {
   "cell_type": "code",
   "execution_count": 2,
   "id": "ce9c32b4-bfb3-4c8f-8ac9-cb5983f16814",
   "metadata": {},
   "outputs": [
    {
     "name": "stdout",
     "output_type": "stream",
     "text": [
      "Chi-Squared Statistic: 4.442953020134229\n",
      "P-Value: 0.10844886471253237\n",
      "Degrees of Freedom: 2\n",
      "Fail to reject the null hypothesis: CpG sites are uniformly distributed.\n"
     ]
    }
   ],
   "source": [
    "import numpy as np\n",
    "import scipy.stats\n",
    "\n",
    "# Generate random data for demonstration\n",
    "# Replace this with your actual data\n",
    "observed_counts = np.array([60, 39, 50])  # Counts of CpG sites in different regions\n",
    "total_cpg_sites = np.sum(observed_counts)  # Total number of CpG sites\n",
    "\n",
    "# Define the expected proportions if uniformly distributed\n",
    "# You can adjust these based on your specific regions of interest\n",
    "expected_proportions = np.array([1/3, 1/3, 1/3])  # Uniform distribution\n",
    "\n",
    "# Calculate the expected counts based on the proportions\n",
    "expected_counts = expected_proportions * total_cpg_sites\n",
    "\n",
    "# Perform the chi-squared goodness-of-fit test\n",
    "chi_squared_statistic, p_value = scipy.stats.chisquare(observed_counts, f_exp=expected_counts)\n",
    "\n",
    "# Define the significance level (alpha)\n",
    "alpha = 0.05\n",
    "\n",
    "# Determine the degrees of freedom\n",
    "degrees_of_freedom = len(observed_counts) - 1\n",
    "\n",
    "# Print the results\n",
    "print(\"Chi-Squared Statistic:\", chi_squared_statistic)\n",
    "print(\"P-Value:\", p_value)\n",
    "print(\"Degrees of Freedom:\", degrees_of_freedom)\n",
    "\n",
    "# Compare the p-value to the significance level\n",
    "if p_value < alpha:\n",
    "    print(\"Reject the null hypothesis: CpG sites are not uniformly distributed.\")\n",
    "else:\n",
    "    print(\"Fail to reject the null hypothesis: CpG sites are uniformly distributed.\")\n"
   ]
  },
  {
   "cell_type": "code",
   "execution_count": null,
   "id": "e7340eb2-99cb-44d0-89e2-378a5d19177a",
   "metadata": {},
   "outputs": [],
   "source": []
  }
 ],
 "metadata": {
  "kernelspec": {
   "display_name": "Python 3 (ipykernel)",
   "language": "python",
   "name": "python3"
  },
  "language_info": {
   "codemirror_mode": {
    "name": "ipython",
    "version": 3
   },
   "file_extension": ".py",
   "mimetype": "text/x-python",
   "name": "python",
   "nbconvert_exporter": "python",
   "pygments_lexer": "ipython3",
   "version": "3.8.15"
  }
 },
 "nbformat": 4,
 "nbformat_minor": 5
}
