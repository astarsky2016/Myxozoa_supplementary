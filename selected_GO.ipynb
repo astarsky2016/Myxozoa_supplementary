{
 "cells": [
  {
   "cell_type": "code",
   "execution_count": 7,
   "id": "bb1a6cc6-9ba6-41b9-80b6-4bc185babe0f",
   "metadata": {},
   "outputs": [],
   "source": [
    "from collections import defaultdict\n",
    "import glob, pickle, re\n",
    "datasets = []\n",
    "db_names = []\n",
    "functions = [\"Biological Process\", \"Molecular Function\", \"Cellular Component\"]\n",
    "for db in glob.glob(\"graph_lists_*_low.p\"):\n",
    "    match = re.search(r'\\d+', db)\n",
    "    if match:\n",
    "        numerical_part = int(match.group())\n",
    "        if numerical_part not in [57, 58]:\n",
    "            db_names.append(\"sample_{}\".format(numerical_part))\n",
    "            datasets.append(pickle.load(open(db, \"rb\")))\n",
    "top_20 = defaultdict(set)\n",
    "all_hits = defaultdict(dict)\n",
    "for p, data in enumerate(datasets):\n",
    "    for f in data.keys():\n",
    "        sorted_fnc = sorted(data[f], key=lambda tup: tup[1], reverse=True)\n",
    "        top_20[f].update(set([el[0] for el in sorted_fnc[0:10]]))\n",
    "        all_hits[db_names[p]][f] = dict(data[f])\n",
    "datasets_ready = defaultdict(dict)\n",
    "for f in top_20.keys():\n",
    "    top_20[f] = list(top_20[f])\n",
    "for tag_sample in all_hits.keys():\n",
    "    for f in functions:\n",
    "        tmp_f = []\n",
    "        for specific_f in top_20[f]:\n",
    "            has_func = all_hits[tag_sample][f].get(specific_f, None)\n",
    "            if has_func:\n",
    "                tmp_f.append(has_func)\n",
    "            else:\n",
    "                tmp_f.append(0)\n",
    "        total = sum(tmp_f)\n",
    "        datasets_ready[tag_sample][f] = [(el/total)*100 for el in tmp_f]\n"
   ]
  },
  {
   "cell_type": "code",
   "execution_count": 14,
   "id": "0eb9782d-04fd-430d-9a3b-183097396233",
   "metadata": {},
   "outputs": [
    {
     "name": "stdout",
     "output_type": "stream",
     "text": [
      "\u001b)0\u001b7\u001b[?47h\u001b[1;24r\u001b[m\u001b[4l\u001b[?1h\u001b=\u001b[m\u001b[m\u001b[37m\u001b[40m\u001b[1;1H                                                                                \u001b[2;1H                                                                                \u001b[3;1H                                                                                \u001b[4;1H                                                                                \u001b[5;1H                                                                                \u001b[6;1H                                                                                \u001b[7;1H                                                                                \u001b[8;1H                                                                                \u001b[9;1H                                                                                \u001b[10;1H                                                                                \u001b[11;1H                                                                                \u001b[12;1H                                                                                \u001b[13;1H                                                                                \u001b[14;1H                                                                                \u001b[15;1H                                                                                \u001b[16;1H                                                                                \u001b[17;1H                                                                                \u001b[18;1H                                                                                \u001b[19;1H                                                                                \u001b[20;1H                                                                                \u001b[21;1H                                                                                \u001b[22;1H                                                                                \u001b[23;1H                                                                                \u001b[24;1H                                                                              \u001b[4h\u001b[37m\u001b[40m \u001b[4l\u001b[H\u001b[m\u001b[m\u001b[37m\u001b[40m\u001b[m\u001b[m\u001b[21B\u001b[33m\u001b[44m\u001b[1mGetting file://localhost/disk3/ALL_ASSEMBLIES/temp-plot.html                    \u001b[22;61H\u001b[m\u001b[m\n",
      "\n",
      "\u001b[?1l\u001b>\u001b[2J\u001b[?47l\u001b8"
     ]
    },
    {
     "data": {
      "text/plain": [
       "'temp-plot.html'"
      ]
     },
     "execution_count": 14,
     "metadata": {},
     "output_type": "execute_result"
    }
   ],
   "source": [
    "import plotly.graph_objects as go\n",
    "import plotly.offline as pyo\n",
    "import plotly.subplots as sp\n",
    "\n",
    "\n",
    "categories_1 = top_20[functions[0]]\n",
    "categories_1 = [*categories, categories[0]]\n",
    "categories_2 = top_20[functions[1]]\n",
    "categories_2 = [*categories, categories[1]]\n",
    "categories_3 = top_20[functions[2]]\n",
    "categories_3 = [*categories, categories[2]]\n",
    "\n",
    "data_1_1 = datasets_ready[db_names[0]][functions[0]]\n",
    "data_2_1 = datasets_ready[db_names[1]][functions[0]]\n",
    "data_3_1 = datasets_ready[db_names[2]][functions[0]]\n",
    "data_1_1 = [*data_1_1, data_1_1[0]]\n",
    "data_2_1 = [*data_2_1, data_2_1[0]]\n",
    "data_3_1 = [*data_3_1, data_3_1[0]]\n",
    "\n",
    "data_1_2 = datasets_ready[db_names[0]][functions[1]]\n",
    "data_2_2 = datasets_ready[db_names[1]][functions[1]]\n",
    "data_3_2 = datasets_ready[db_names[2]][functions[1]]\n",
    "data_1_2 = [*data_1_2, data_1_2[0]]\n",
    "data_2_2 = [*data_2_2, data_2_2[0]]\n",
    "data_3_2 = [*data_3_2, data_3_2[0]]\n",
    "\n",
    "data_1_3 = datasets_ready[db_names[0]][functions[2]]\n",
    "data_2_3 = datasets_ready[db_names[1]][functions[2]]\n",
    "data_3_3 = datasets_ready[db_names[2]][functions[2]]\n",
    "data_1_3 = [*data_1_3, data_1_3[0]]\n",
    "data_2_3 = [*data_2_3, data_2_3[0]]\n",
    "data_3_3 = [*data_3_3, data_3_3[0]]\n",
    "\n",
    "fig = sp.make_subplots(rows=1, cols=3, subplot_titles=(functions[0], functions[1], functions[2]))\n",
    "\n",
    "# Add the traces for each function to the corresponding subplot\n",
    "trace1 = go.Scatterpolar(r=data_1, theta=categories, fill='toself', name=db_names[0])\n",
    "trace2 = go.Scatterpolar(r=data_2, theta=categories, fill='toself', name=db_names[1])\n",
    "trace3 = go.Scatterpolar(r=data_3, theta=categories, fill='toself', name=db_names[2])\n",
    "fig.add_trace(trace1, row=1, col=1)\n",
    "fig.add_trace(trace2, row=1, col=2)\n",
    "fig.add_trace(trace3, row=1, col=3)\n",
    "\n",
    "fig = go.Figure(\n",
    "    data=[\n",
    "        go.Scatterpolar(r=data_1, theta=categories_1, fill='toself', name=db_names[0]),\n",
    "        go.Scatterpolar(r=data_2, theta=categories_1, fill='toself', name=db_names[1]),\n",
    "        go.Scatterpolar(r=data_3, theta=categories_1, fill='toself', name=db_names[2])\n",
    "    ],\n",
    "    layout=go.Layout(\n",
    "        title=go.layout.Title(text='{} comparison'.format(functions[0])),\n",
    "        polar={'radialaxis': {'visible': True}},\n",
    "        showlegend=True\n",
    "    )\n",
    ")\n",
    "\n",
    "pyo.plot(fig)"
   ]
  },
  {
   "cell_type": "code",
   "execution_count": null,
   "id": "527909d9-3fc2-4c27-87a9-01ba4589d4b4",
   "metadata": {},
   "outputs": [],
   "source": []
  }
 ],
 "metadata": {
  "kernelspec": {
   "display_name": "Python 3 (ipykernel)",
   "language": "python",
   "name": "python3"
  },
  "language_info": {
   "codemirror_mode": {
    "name": "ipython",
    "version": 3
   },
   "file_extension": ".py",
   "mimetype": "text/x-python",
   "name": "python",
   "nbconvert_exporter": "python",
   "pygments_lexer": "ipython3",
   "version": "3.8.15"
  }
 },
 "nbformat": 4,
 "nbformat_minor": 5
}
